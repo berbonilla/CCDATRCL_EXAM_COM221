{
  "cells": [
    {
      "cell_type": "markdown",
      "metadata": {
        "id": "yaz2B0KGFehP"
      },
      "source": [
        "# Midterm Exam 💛💙"
      ]
    },
    {
      "cell_type": "markdown",
      "metadata": {
        "id": "_DmK1ONEFehQ"
      },
      "source": [
        "**Instructions** ❗️❗️\n",
        "\n",
        "❌ Do not remove or modify the notebook **sections**, **subsections**, **exam questions** or **any text** in this python notebook\n",
        "\n",
        "✔️ Put your answer in the designated cells below each question"
      ]
    },
    {
      "cell_type": "markdown",
      "metadata": {
        "id": "TMCAXKWCFehR"
      },
      "source": [
        "## Search"
      ]
    },
    {
      "cell_type": "code",
      "execution_count": 2096,
      "metadata": {
        "id": "Fy8nEBRRFehR"
      },
      "outputs": [],
      "source": [
        "def linearSearch(my_list, number):\n",
        "\n",
        "    index = 0\n",
        "\n",
        "    for i in my_list:\n",
        "\n",
        "        if my_list[index] == number:\n",
        "            return index\n",
        "\n",
        "        index = index + 1\n",
        "\n",
        "    return -1"
      ]
    },
    {
      "cell_type": "markdown",
      "metadata": {
        "id": "AjAevpueFehS"
      },
      "source": [
        "1. Using **linear search**, write a `findLargestIncrease()` function to find the largest increase in value between two adjacent numbers in your student number `(10 points)`\n",
        "\n",
        "    **Example:**\n",
        "\n",
        "    student_number = [2,0,2,2,6,2,5,1,9,3]\n",
        "\n",
        "    **Expected Output:**\n",
        "\n",
        "    findLargestIncrease(student_number)\n",
        "\n",
        "    Output: Between 1 and 9\n",
        "\n",
        "    **Explanation:**\n",
        "\n",
        "    From this student_number, the largest increase happened from number 1 to number 9"
      ]
    },
    {
      "cell_type": "code",
      "execution_count": 2097,
      "metadata": {
        "id": "JE8nEfyJFehS",
        "colab": {
          "base_uri": "https://localhost:8080/"
        },
        "outputId": "ad1bced9-ece3-40cd-fb39-54ebbd9fa01a"
      },
      "outputs": [
        {
          "output_type": "stream",
          "name": "stdout",
          "text": [
            "Between 2 And 5\n"
          ]
        }
      ],
      "source": [
        "student_number = [2,0,2,2,1,0,2,5,0,3]\n",
        "diff_list =[]\n",
        "paired_list = []\n",
        "str_paired_max = \"\"\n",
        "\n",
        "def findLargestIncrease(num_list):\n",
        "    for i in range (len(num_list)):\n",
        "        if (i+1) < len(num_list):\n",
        "            diff = num_list[i]-num_list[i+1]\n",
        "            diff = -1*diff\n",
        "            diff_list.append(diff)\n",
        "            paired_list.append(str(num_list[i])+\"\"+str(num_list[i+1]))\n",
        "        else:\n",
        "            break\n",
        "\n",
        "    max_val_index = linearSearch(diff_list,max(diff_list))\n",
        "\n",
        "    str_paired_max = str(paired_list[max_val_index])\n",
        "    print(\"Between\",str_paired_max[0],\"And\", str_paired_max[1])\n",
        "\n",
        "findLargestIncrease(student_number)\n"
      ]
    },
    {
      "cell_type": "markdown",
      "metadata": {
        "id": "nMyr1fNyFehS"
      },
      "source": [
        "2. Using **linear search**, write a `findLargestDecrease()` function to find the largest decrease in value between two adjacent numbers in your student number `(10 points)`\n",
        "\n",
        "    **Example:**\n",
        "\n",
        "    student_number = [2,0,2,2,6,2,5,1,9,3]\n",
        "\n",
        "    **Expected Output:**\n",
        "\n",
        "    findLargestDecrease(student_number)\n",
        "\n",
        "    Output: Between 9 and 3\n",
        "\n",
        "    **Explanation:**\n",
        "\n",
        "    From this student_number, the largest decrease happened from number 9 to number 3"
      ]
    },
    {
      "cell_type": "code",
      "execution_count": 2098,
      "metadata": {
        "id": "bfMfQVbVFehS",
        "colab": {
          "base_uri": "https://localhost:8080/"
        },
        "outputId": "399a9bf4-b5bc-4b4f-a29c-e08edd3fda53"
      },
      "outputs": [
        {
          "output_type": "stream",
          "name": "stdout",
          "text": [
            "Between 5 And 0\n"
          ]
        }
      ],
      "source": [
        "student_number = [2,0,2,2,1,0,2,5,0,3]\n",
        "diff_list =[]\n",
        "paired_list = []\n",
        "str_paired_max = \"\"\n",
        "\n",
        "def findLargestDecrease(num_list):\n",
        "    for i in range (len(num_list)):\n",
        "        if (i+1) < len(num_list):\n",
        "            diff = num_list[i]-num_list[i+1]\n",
        "            diff = -1*diff\n",
        "            diff_list.append(diff)\n",
        "            paired_list.append(str(num_list[i])+\"\"+str(num_list[i+1]))\n",
        "        else:\n",
        "            break\n",
        "\n",
        "    max_val_index = linearSearch(diff_list,min(diff_list))\n",
        "\n",
        "    str_paired_max = str(paired_list[max_val_index])\n",
        "    print(\"Between\",str_paired_max[0],\"And\", str_paired_max[1])\n",
        "\n",
        "findLargestDecrease(student_number)\n",
        "\n"
      ]
    },
    {
      "cell_type": "markdown",
      "metadata": {
        "id": "NtKSQn9QFehS"
      },
      "source": [
        "## Linked List"
      ]
    },
    {
      "cell_type": "code",
      "execution_count": 2099,
      "metadata": {
        "id": "0HP5zyJcFehS"
      },
      "outputs": [],
      "source": [
        "class Node:\n",
        "\n",
        "    def __init__(self, data):\n",
        "        self.data = data\n",
        "        self.next = None  # null"
      ]
    },
    {
      "cell_type": "code",
      "execution_count": 2100,
      "metadata": {
        "id": "A-8Uefe7FehS"
      },
      "outputs": [],
      "source": [
        "class LinkedList:\n",
        "\n",
        "    def __init__(self):\n",
        "        self.head = None\n",
        "\n",
        "    def traverse(self, node):\n",
        "        while node:\n",
        "            print(node.data, end=\",\")\n",
        "            node = node.next\n"
      ]
    },
    {
      "cell_type": "markdown",
      "metadata": {
        "id": "uPgIJJuSFehT"
      },
      "source": [
        "**Instructions** ❗️❗️\n",
        "\n",
        "Use the pre-defined linked list class/functions to create a linked list"
      ]
    },
    {
      "cell_type": "markdown",
      "metadata": {
        "id": "WIwpW7Q2FehT"
      },
      "source": [
        "1. Create a Singly linked list named **num_list** and print all of its\n",
        "\n",
        "1.   List item\n",
        "\n",
        "1.   List item\n",
        "2.   List item\n",
        "\n",
        "\n",
        "2.   List item\n",
        "\n",
        "elements. `(5 points)`\n",
        "\n",
        "- **num_list** should contain all digits of your student number.\n",
        "\n",
        "    **Expected Output:**\n",
        "\n",
        "    print(num_list)\n",
        "\n",
        "    [2, 0, 2, 2, 1, 2, 3, 4, 5, 6]"
      ]
    },
    {
      "cell_type": "code",
      "execution_count": 2101,
      "metadata": {
        "id": "Lihv0JPiFehT"
      },
      "outputs": [],
      "source": [
        "student_number = [2,0,2,2,1,0,2,2,0,4]\n",
        "num_list = LinkedList()\n",
        "\n",
        "def add_values_to_linked_list(linked_list, values):\n",
        "    for value in values:\n",
        "        add_node = Node(value)\n",
        "        if not linked_list.head:\n",
        "            linked_list.head = add_node\n",
        "        else:\n",
        "            current_node = linked_list.head\n",
        "            while current_node.next:\n",
        "                current_node = current_node.next\n",
        "            current_node.next = add_node\n",
        "\n"
      ]
    },
    {
      "cell_type": "markdown",
      "metadata": {
        "id": "dqA2UYrYFehT"
      },
      "source": [
        "2. Write a `hasPrime()` function to test whether a prime number is in the last six digits of **num_list**. `(5 points)`\n",
        "\n",
        "- If a prime number is in the last six digits of **num_list**, the method should return **true**\n",
        "\n",
        "- If a prime number is not in the last six digits of **num_list**, the method should return **false**\n",
        "\n",
        "    **Expected Output:**\n",
        "\n",
        "    hasPrime(num_list)\n",
        "\n",
        "    True"
      ]
    },
    {
      "cell_type": "code",
      "execution_count": 2102,
      "metadata": {
        "id": "GYwsQNz5FehT",
        "colab": {
          "base_uri": "https://localhost:8080/"
        },
        "outputId": "20ca44db-dd19-48bb-cd90-7acaa466b17f"
      },
      "outputs": [
        {
          "output_type": "execute_result",
          "data": {
            "text/plain": [
              "True"
            ]
          },
          "metadata": {},
          "execution_count": 2102
        }
      ],
      "source": [
        "def has_prime(linked_list):\n",
        "    def is_prime(num):\n",
        "        if num <= 1:\n",
        "            return False\n",
        "        if num <= 3:\n",
        "            return True\n",
        "        if num % 2 == 0 or num % 3 == 0:\n",
        "            return False\n",
        "        i = 5\n",
        "        while i * i <= num:\n",
        "            if num % i == 0 or num % (i + 2) == 0:\n",
        "                return False\n",
        "            i += 6\n",
        "        return True\n",
        "\n",
        "    current = linked_list.head\n",
        "    for _ in range(4):\n",
        "        if current is None:\n",
        "            return False\n",
        "        current = current.next\n",
        "\n",
        "    while current:\n",
        "        if is_prime(current.data):\n",
        "            return True\n",
        "        current = current.next\n",
        "\n",
        "    return False\n",
        "\n",
        "student_number = [2,0,2,2,1,0,2,5,0,3]\n",
        "num_list = LinkedList()\n",
        "\n",
        "add_values_to_linked_list(num_list, student_number)\n",
        "\n",
        "has_prime(num_list)"
      ]
    },
    {
      "cell_type": "markdown",
      "metadata": {
        "id": "5Qb0BOiwFehT"
      },
      "source": [
        "3. Write a `removeZeroes()` function to remove all occurrences of zeroes in **num_list**. `(5 points)`\n",
        "\n",
        "- If a zero is in **num_list**, return **num_list**\n",
        "\n",
        "- If there are no zeroes in **num_list**, return **\"no zeros found\"**\n",
        "\n",
        "    **Expected Output:**\n",
        "\n",
        "    removeZeroes(num_list)\n",
        "\n",
        "    [2, 2, 1, 2, 3, 4, 5, 6]"
      ]
    },
    {
      "cell_type": "code",
      "execution_count": 2103,
      "metadata": {
        "id": "k1vAHUYuFehT",
        "colab": {
          "base_uri": "https://localhost:8080/"
        },
        "outputId": "a8d48ecc-be9d-40aa-98be-25b852b13cc1"
      },
      "outputs": [
        {
          "output_type": "stream",
          "name": "stdout",
          "text": [
            "2,2,2,1,2,5,3,"
          ]
        }
      ],
      "source": [
        "def removeZeroes(linked_list):\n",
        "    if not linked_list.head:\n",
        "        return\n",
        "\n",
        "    while linked_list.head and linked_list.head.data == 0:\n",
        "        linked_list.head = linked_list.head.next\n",
        "\n",
        "    current = linked_list.head\n",
        "    prev = None\n",
        "\n",
        "    while current:\n",
        "        if current.data == 0:\n",
        "            prev.next = current.next\n",
        "        else:\n",
        "            prev = current\n",
        "        current = current.next\n",
        "\n",
        "student_number = [2,0,2,2,1,0,2,5,0,3]\n",
        "num_list = LinkedList()\n",
        "\n",
        "add_values_to_linked_list(num_list, student_number)\n",
        "\n",
        "removeZeroes(num_list)\n",
        "num_list.traverse(num_list.head)"
      ]
    },
    {
      "cell_type": "markdown",
      "metadata": {
        "id": "SKAlpglNFehT"
      },
      "source": [
        "4. Insert a dash symbol between the 4th and 5th digit in **num_list**. `(5 points)`\n",
        "\n",
        "    **Expected Output:**\n",
        "\n",
        "    print(num_list)\n",
        "\n",
        "    [2, 0, 2, 2, \"-\", 1, 2, 3, 4, 5, 6]"
      ]
    },
    {
      "cell_type": "code",
      "execution_count": 2104,
      "metadata": {
        "id": "vF7fimZ-FehT",
        "colab": {
          "base_uri": "https://localhost:8080/"
        },
        "outputId": "6f3cb76e-ce6c-4f6b-bdda-f26a8b726f5a"
      },
      "outputs": [
        {
          "output_type": "stream",
          "name": "stdout",
          "text": [
            "2,0,2,2,-,1,0,2,5,0,3,"
          ]
        }
      ],
      "source": [
        "def add_values(linked_list, values):\n",
        "    for value in values:\n",
        "\n",
        "        add_node = Node(value) # Same with node_b = Node(\"Value\") but automated\n",
        "\n",
        "        if not linked_list.head:\n",
        "            linked_list.head = add_node\n",
        "        else:\n",
        "            current_node = linked_list.head\n",
        "            while current_node.next:\n",
        "                current_node = current_node.next\n",
        "            current_node.next = add_node\n",
        "\n",
        "\n",
        "def insert_dash(linked_list):\n",
        "    current = linked_list.head\n",
        "    count = 0\n",
        "    while current:\n",
        "        count += 1\n",
        "        if count == 4 and current.next:\n",
        "            new_node = Node('-')\n",
        "            new_node.next = current.next\n",
        "            current.next = new_node\n",
        "            return\n",
        "        current = current.next\n",
        "\n",
        "student_number = [2,0,2,2,1,0,2,5,0,3]\n",
        "num_list = LinkedList()\n",
        "\n",
        "add_values(num_list,student_number)\n",
        "\n",
        "insert_dash(num_list)\n",
        "num_list.traverse(num_list.head)"
      ]
    },
    {
      "cell_type": "markdown",
      "metadata": {
        "id": "KkC-LgdxFehT"
      },
      "source": [
        "## Stack"
      ]
    },
    {
      "cell_type": "code",
      "execution_count": 2105,
      "metadata": {
        "id": "UYTqB1u_FehU"
      },
      "outputs": [],
      "source": [
        "# Creating a stack\n",
        "def create_stack():\n",
        "    stack = []\n",
        "    return stack\n",
        "\n",
        "\n",
        "def print_stack(stack):\n",
        "\n",
        "    if (check_empty(stack)):\n",
        "        return \"stack is empty\"\n",
        "\n",
        "    # Create a copy of the stack and reverse the elements\n",
        "    tempStack = stack.copy()\n",
        "    tempStack.reverse()\n",
        "\n",
        "    # Print all elements using a loop\n",
        "    for i in tempStack:\n",
        "        print(i)\n",
        "\n",
        "    # Delete the copy to free up memory\n",
        "    del tempStack\n",
        "\n",
        "# Creating an empty stack\n",
        "\n",
        "\n",
        "def check_empty(stack):\n",
        "    return len(stack) == 0\n",
        "\n",
        "\n",
        "# Adding items into the stack\n",
        "def push(stack, item):\n",
        "    stack.append(item)\n",
        "    print(\"pushed item: \" + item)\n",
        "\n",
        "\n",
        "# Removing an element from the stack\n",
        "def pop(stack):\n",
        "    if (check_empty(stack)):\n",
        "        return \"stack is empty\"\n",
        "\n",
        "    return stack.pop()\n",
        "\n",
        "\n",
        "def peek(stack):\n",
        "\n",
        "    # Use negative indexing to display the last element of the list\n",
        "    print(stack[-1])"
      ]
    },
    {
      "cell_type": "markdown",
      "metadata": {
        "id": "wLAQchs8FehU"
      },
      "source": [
        "**Instructions** ❗️❗️\n",
        "\n",
        "Use the pre-defined stack class/functions to create a stack"
      ]
    },
    {
      "cell_type": "markdown",
      "metadata": {
        "id": "37cg9BoCFehU"
      },
      "source": [
        "1. Create two (2) stacks named **name_stack** and **num_stack** `(5 points)`\n",
        "\n",
        "- **name_stack** should contain all letters of your first name.\n",
        "- **num_stack** should contain all digits of your student number.\n",
        "\n",
        "    **Expected Output:**\n",
        "\n",
        "    print(name_stack)\n",
        "\n",
        "    ['E', 'L', 'I', 'Z', 'E', 'R']\n",
        "\n",
        "    print(num_stack)\n",
        "\n",
        "    [2,0,2,2,1,2,3,4,5,6]"
      ]
    },
    {
      "cell_type": "code",
      "execution_count": 2106,
      "metadata": {
        "id": "HlUIUQzQFehU",
        "colab": {
          "base_uri": "https://localhost:8080/"
        },
        "outputId": "73d9b542-8df3-4968-a426-dfcb67acf561"
      },
      "outputs": [
        {
          "output_type": "stream",
          "name": "stdout",
          "text": [
            "pushed item: I\n",
            "pushed item: B\n",
            "pushed item: E\n",
            "pushed item: R\n",
            "pushed item: 2\n",
            "pushed item: 0\n",
            "pushed item: 2\n",
            "pushed item: 2\n",
            "pushed item: 1\n",
            "pushed item: 0\n",
            "pushed item: 2\n",
            "pushed item: 5\n",
            "pushed item: 0\n",
            "pushed item: 3\n",
            "['I', 'B', 'E', 'R']\n",
            "['2', '0', '2', '2', '1', '0', '2', '5', '0', '3']\n"
          ]
        }
      ],
      "source": [
        "name_stack = create_stack()\n",
        "num_stack = create_stack()\n",
        "name = \"IBER\"\n",
        "student_number =\"2022102503\"\n",
        "\n",
        "for i in range(len(name)):\n",
        "  push(name_stack, name[i]) # Pushes all the char in string \"name\" to \"name_stack\"\n",
        "\n",
        "for i in range(len(student_number)):\n",
        "  push(num_stack, str(student_number[i])) # Pushes all the char in string \"student_number\" to \"num_stack\"\n",
        "\n",
        "print(name_stack)\n",
        "print(num_stack)"
      ]
    },
    {
      "cell_type": "markdown",
      "metadata": {
        "id": "8cySe9LXFehU"
      },
      "source": [
        "2. Create a stack named **my_stack** that follows the following format: `(5 points)`\n",
        "\n",
        "- The first element should be the **5th digit in your student number**\n",
        "- The succeeding elements should be the letters of your **first name**\n",
        "- The last element should be the **last digit of your student number**\n",
        "\n",
        "    **Expected Output:**\n",
        "\n",
        "    my_stack = [1, E, L, I, Z, E, R, 6]"
      ]
    },
    {
      "cell_type": "code",
      "execution_count": 2107,
      "metadata": {
        "id": "bEnCoAhjFehU",
        "colab": {
          "base_uri": "https://localhost:8080/"
        },
        "outputId": "7ff14480-fade-4cbd-9a20-447147c7ca46"
      },
      "outputs": [
        {
          "output_type": "stream",
          "name": "stdout",
          "text": [
            "pushed item: 1\n",
            "pushed item: I\n",
            "pushed item: B\n",
            "pushed item: E\n",
            "pushed item: R\n",
            "pushed item: 3\n",
            "['1', 'I', 'B', 'E', 'R', '3']\n"
          ]
        }
      ],
      "source": [
        "my_stack = create_stack()\n",
        "\n",
        "for i in range(len(name)+2):\n",
        "  if (i == 0):\n",
        "    push(my_stack, str(student_number[4]))\n",
        "  elif (i == (len(name)+2)-1):\n",
        "    push(my_stack, str(student_number[len(student_number)-1]))\n",
        "  elif(i<=(len(name))):\n",
        "    push(my_stack, name[i-1])\n",
        "\n",
        "print(my_stack)"
      ]
    },
    {
      "cell_type": "markdown",
      "metadata": {
        "id": "8a8_KP5nFehU"
      },
      "source": [
        "3. Write a `verifyStack()` function that will take in `my_stack` and check if its format has been followed `(10 points)`\n",
        "\n",
        "- Return **True** if the format has been followed\n",
        "- Return **False** if the format was not followed\n",
        "- Verify the format by checking the contents of **my_stack** with **name_stack** and **num_stack**\n",
        "\n",
        "    **Expected Output:**\n",
        "\n",
        "    my_stack = [1, E, L, I, Z, E, R, 6]\n",
        "\n",
        "    verifyStack(my_stack)\n",
        "\n",
        "    True\n",
        "\n",
        "    my_stack = [1, S, L, I, Z, E, R, 7]\n",
        "\n",
        "    verifyStack(my_stack)\n",
        "\n",
        "    False"
      ]
    },
    {
      "cell_type": "code",
      "execution_count": 2108,
      "metadata": {
        "id": "RdANSxD0FehU",
        "colab": {
          "base_uri": "https://localhost:8080/"
        },
        "outputId": "b81d0115-32fe-4e54-95cb-0beef23026d4"
      },
      "outputs": [
        {
          "output_type": "stream",
          "name": "stdout",
          "text": [
            "Original Stack:  ['1', 'I', 'B', 'E', 'R', '3']\n",
            "True\n",
            "New Stack:  [1, 'S', 'L', 'I', 'Z', 'E', 'R', 7]\n",
            "False\n"
          ]
        }
      ],
      "source": [
        "def verifyStack(stack_to_check):\n",
        "  for i in range (len(name)+2):\n",
        "\n",
        "    if (i == 0):\n",
        "      if (my_stack[i] != num_stack[4]): # Checks if 1st input is 5th Digit of student number_stack\n",
        "        return False\n",
        "        break\n",
        "\n",
        "    if (i == (len(name)+2)-1):\n",
        "      if (my_stack[i] != num_stack[len(student_number)-1]): # Checks if last input is last Digit of the number_stack\n",
        "        return False\n",
        "        break\n",
        "    j=0\n",
        "    while j < (len(name)+1):\n",
        "      if j < (len(name)-1):\n",
        "        if(my_stack[j+1] != name_stack[j]): # Checks if all other inputs are part of the name_stack\n",
        "          return False\n",
        "          break\n",
        "      j+=1\n",
        "\n",
        "    return True\n",
        "\n",
        "print(\"Original Stack: \",my_stack)\n",
        "print(verifyStack(my_stack))\n",
        "\n",
        "my_stack = [1, \"S\", \"L\", \"I\", \"Z\", \"E\", \"R\", 7]\n",
        "print(\"New Stack: \", my_stack)\n",
        "print(verifyStack(my_stack))"
      ]
    },
    {
      "cell_type": "markdown",
      "metadata": {
        "id": "UC5C64B2FehU"
      },
      "source": [
        "## Queue"
      ]
    },
    {
      "cell_type": "code",
      "execution_count": 2109,
      "metadata": {
        "id": "NJJ0j0LHFehU"
      },
      "outputs": [],
      "source": [
        "class Queue:\n",
        "    def __init__(self):\n",
        "        self.queue = []\n",
        "\n",
        "    # Add an element\n",
        "    def enqueue(self, item):\n",
        "        self.queue.append(item)\n",
        "\n",
        "    # Remove an element\n",
        "    def dequeue(self):\n",
        "        if len(self.queue) < 1:\n",
        "            return None\n",
        "        return self.queue.pop(0)\n",
        "\n",
        "    # Display  the queue\n",
        "    def display(self):\n",
        "        print(self.queue)\n",
        "\n",
        "    def size(self):\n",
        "        return len(self.queue)\n",
        "\n",
        "    def peek(self):\n",
        "        return self.queue[0]"
      ]
    },
    {
      "cell_type": "markdown",
      "metadata": {
        "id": "80OekpbeFehV"
      },
      "source": [
        "**Instructions** ❗️❗️\n",
        "\n",
        "Use the pre-defined queue class/functions to create a Queue"
      ]
    },
    {
      "cell_type": "markdown",
      "metadata": {
        "id": "_Hf0OP5cFehV"
      },
      "source": [
        "1. Create a simple queue named **num_queue** `(5 points)`\n",
        "\n",
        "- **num_queue** should contain all digits of your student number.\n",
        "\n",
        "    **Expected Output:**\n",
        "\n",
        "    print(num_queue)\n",
        "\n",
        "    [2,0,2,2,1,2,3,4,5,6]"
      ]
    },
    {
      "cell_type": "code",
      "execution_count": 2110,
      "metadata": {
        "id": "_mgmE4ArFehV",
        "colab": {
          "base_uri": "https://localhost:8080/"
        },
        "outputId": "079764f8-558d-46c2-8c7f-56a0e6cec584"
      },
      "outputs": [
        {
          "output_type": "stream",
          "name": "stdout",
          "text": [
            "['2', '0', '2', '2', '1', '0', '2', '5', '0', '3']\n"
          ]
        }
      ],
      "source": [
        "num_queue = Queue()\n",
        "student_number = \"2022102503\"\n",
        "\n",
        "for i in range (len(student_number)):\n",
        "  num_queue.enqueue(student_number[i])\n",
        "\n",
        "num_queue.display()"
      ]
    },
    {
      "cell_type": "markdown",
      "metadata": {
        "id": "1pHG8t6DFehV"
      },
      "source": [
        "2. Write a `getMax()` or `getMin()` function for **num_queue** `(5 points)`\n",
        "\n",
        "- If your student number ends with an odd number, create a `getMax()` function that will return the largest number in **num_queue**\n",
        "- If your student number ends with an even number, create a `getMin()` function that will return the lowest number in **num_queue**\n",
        "\n",
        "    **Expected Output for getMax():**\n",
        "\n",
        "    getMax(num_queue)\n",
        "\n",
        "    6\n",
        "\n",
        "    **Expected Output for getMin():**\n",
        "\n",
        "    getMin(num_queue)\n",
        "\n",
        "    0"
      ]
    },
    {
      "cell_type": "code",
      "execution_count": 2111,
      "metadata": {
        "id": "itj2U610FehV",
        "colab": {
          "base_uri": "https://localhost:8080/"
        },
        "outputId": "baea134f-f425-4929-e76a-e32feae2dfa9"
      },
      "outputs": [
        {
          "output_type": "stream",
          "name": "stdout",
          "text": [
            "5\n"
          ]
        }
      ],
      "source": [
        "def getMax(queue):\n",
        "  for i in range (queue.size()):\n",
        "      temp_list.append(queue.peek())\n",
        "      queue.dequeue()\n",
        "\n",
        "  return print(max(temp_list))\n",
        "\n",
        "def getMin(queue):\n",
        "  for i in range (queue.size()):\n",
        "    temp_list.append(queue.peek())\n",
        "    queue.dequeue()\n",
        "\n",
        "  return print(min(temp_list))\n",
        "\n",
        "temp_list = []\n",
        "student_number = \"2022102503\"\n",
        "\n",
        "for i in range (len(student_number)):\n",
        "  num_queue.enqueue(student_number[i])\n",
        "\n",
        "\n",
        "for i in range (num_queue.size()):\n",
        "  temp_list.append(num_queue.peek())\n",
        "  if (i == (len(student_number)-1)):\n",
        "    last_digit = num_queue.peek()\n",
        "    break\n",
        "  else:\n",
        "    num_queue.dequeue()\n",
        "num_queue.dequeue()\n",
        "\n",
        "\n",
        "if (int(last_digit) % 2 == 0):\n",
        "  getMin(num_queue)\n",
        "else:\n",
        "  getMax(num_queue)\n",
        "\n"
      ]
    },
    {
      "cell_type": "markdown",
      "metadata": {
        "id": "YkgmP6GwFehV"
      },
      "source": [
        "3. Write a `getOdd()` or `getEven()` function for  **num_queue** `(5 points)`\n",
        "\n",
        "- If your student number ends with an **odd number**, create a `getOdd()` function that will return all odd numbers in **num_queue**\n",
        "- If your student number ends with an **even number**, create a `getEven()` function that will return all even numbers in **num_queue**\n",
        "\n",
        "    **Expected Output for getOdd():**\n",
        "\n",
        "    getOdd(num_queue)\n",
        "\n",
        "    [1, 3, 5]\n",
        "\n",
        "    **Expected Output for getEven():**\n",
        "\n",
        "    getEven(num_queue)\n",
        "\n",
        "    [0, 2, 4, 6]"
      ]
    },
    {
      "cell_type": "code",
      "execution_count": 2112,
      "metadata": {
        "id": "2Bc7E1zNFehV",
        "colab": {
          "base_uri": "https://localhost:8080/"
        },
        "outputId": "e9783331-d77d-412d-a2cb-c9693933c628"
      },
      "outputs": [
        {
          "output_type": "stream",
          "name": "stdout",
          "text": [
            "['2', '0', '2', '2', '1', '0', '2', '5', '0', '3']\n",
            "['1', '5', '3']\n"
          ]
        }
      ],
      "source": [
        "def getEven(queue):\n",
        "  for i in range (queue.size()):\n",
        "      temp_list.append(queue.peek())\n",
        "      queue.dequeue()\n",
        "\n",
        "  for j in range (len(temp_list)-1):\n",
        "    if (int(temp_list[j]) % 2==0):\n",
        "      if (temp_list[j] not in even):\n",
        "        even.append(temp_list[j])\n",
        "\n",
        "  print(even)\n",
        "\n",
        "def getOdd(queue):\n",
        "  for i in range (queue.size()):\n",
        "    temp_list.append(queue.peek())\n",
        "    queue.dequeue()\n",
        "\n",
        "  for j in range (len(temp_list)):\n",
        "    if(int(temp_list[j]) % 2 !=0):\n",
        "      if (temp_list[j] not in odd):\n",
        "        odd.append(temp_list[j])\n",
        "\n",
        "  print(odd)\n",
        "\n",
        "temp_list = []\n",
        "even = []\n",
        "odd = []\n",
        "student_number = \"2022102503\"\n",
        "\n",
        "for i in range (len(student_number)):\n",
        "  num_queue.enqueue(student_number[i])\n",
        "\n",
        "num_queue.display()\n",
        "\n",
        "for i in range (num_queue.size()):\n",
        "  temp_list.append(num_queue.peek())\n",
        "  if (i == (len(student_number)-1)):\n",
        "    last_digit = num_queue.peek()\n",
        "    break\n",
        "  else:\n",
        "    num_queue.dequeue()\n",
        "num_queue.dequeue()\n",
        "\n",
        "\n",
        "if (int(last_digit) % 2 == 0):\n",
        "  getEven(num_queue)\n",
        "else:\n",
        "  getOdd(num_queue)\n"
      ]
    },
    {
      "cell_type": "markdown",
      "metadata": {
        "id": "kuzWF5g4FehV"
      },
      "source": [
        "4. Write a `removeDup()` function that will remove all duplicates in **num_queue** `(5 points)`\n",
        "\n",
        "    **Expected Output:**\n",
        "\n",
        "    removeDup(num_queue)\n",
        "\n",
        "    [2,0,1,3,4,5,6]"
      ]
    },
    {
      "cell_type": "code",
      "execution_count": 2113,
      "metadata": {
        "id": "I8LeQP8MFehY",
        "colab": {
          "base_uri": "https://localhost:8080/"
        },
        "outputId": "514046a5-5386-4fd6-a190-41b04d996ae7"
      },
      "outputs": [
        {
          "output_type": "stream",
          "name": "stdout",
          "text": [
            "['2', '0', '1', '5', '3']\n"
          ]
        }
      ],
      "source": [
        "def removeDup(queue):\n",
        "  for i in range (queue.size()):\n",
        "      temp_list.append(queue.peek())\n",
        "      queue.dequeue()\n",
        "\n",
        "  for j in range (len(temp_list)):\n",
        "    if (temp_list[j] not in new_list):\n",
        "      new_list.append(temp_list[j])\n",
        "\n",
        "  print(new_list)\n",
        "\n",
        "temp_list = []\n",
        "new_list = []\n",
        "student_number = \"2022102503\"\n",
        "\n",
        "for i in range (len(student_number)):\n",
        "  num_queue.enqueue(student_number[i])\n",
        "\n",
        "removeDup(num_queue)"
      ]
    },
    {
      "cell_type": "markdown",
      "metadata": {
        "id": "LVfZTh8YFehZ"
      },
      "source": [
        "## Sort"
      ]
    },
    {
      "cell_type": "markdown",
      "metadata": {
        "id": "bm9lonfzFehZ"
      },
      "source": [
        "**Instructions** ❗️❗️\n",
        "\n",
        "Use the any sorting algoritms"
      ]
    },
    {
      "cell_type": "markdown",
      "metadata": {
        "id": "EJTlxhEdFehZ"
      },
      "source": [
        "1. Using any sorting algorithm, sort the **last 6 digits** of your student number in ascending order `(5 points)`\n",
        "\n",
        "    **Example:**\n",
        "\n",
        "    student_number = [2,0,2,2,6,2,5,1,3,4]\n",
        "\n",
        "    **Expected Output:**\n",
        "\n",
        "    print(student_number)\n",
        "\n",
        "    [2,0,2,2,1,2,3,4,5,6]\n"
      ]
    },
    {
      "cell_type": "code",
      "execution_count": 2114,
      "metadata": {
        "id": "MkZKfveOFehZ",
        "colab": {
          "base_uri": "https://localhost:8080/"
        },
        "outputId": "346418ba-e06c-4cf5-e924-f714a08509e8"
      },
      "outputs": [
        {
          "output_type": "stream",
          "name": "stdout",
          "text": [
            "Original: [2, 0, 2, 2, 1, 0, 2, 5, 0, 3]\n",
            "Sorted: [2, 0, 2, 2, 0, 0, 1, 2, 3, 5]\n"
          ]
        }
      ],
      "source": [
        "def insertionSort(array):\n",
        "    global num_of_steps\n",
        "    for step in range(1, len(array)):\n",
        "        key = array[step]\n",
        "        j = step - 1\n",
        "\n",
        "        while j >= 0 and key < array[j]:\n",
        "            array[j + 1] = array[j]\n",
        "            j = j - 1\n",
        "\n",
        "        array[j + 1] = key\n",
        "\n",
        "student_number = [2,0,2,2,1,0,2,5,0,3]\n",
        "temp_array = []\n",
        "\n",
        "for i in range(len(student_number)-4):\n",
        "    temp_array.append(student_number[i+4])\n",
        "\n",
        "insertionSort(temp_array)\n",
        "\n",
        "\n",
        "print(\"Original:\",student_number)\n",
        "\n",
        "for i in range(len(temp_array)):\n",
        "  student_number[i+4] = (temp_array[i])\n",
        "\n",
        "print(\"Sorted:\",student_number)"
      ]
    },
    {
      "cell_type": "markdown",
      "metadata": {
        "id": "sC2JZRZMFehZ"
      },
      "source": [
        "2. Using your student_number, separately sort the even numbers in **increasing order** and the odd numbers in **decreasing order** `(15 points)`\n",
        "\n",
        "    **Example:**\n",
        "\n",
        "    student_number = [2,0,2,2,1,2,3,4,5,6]\n",
        "\n",
        "    **Expected Output:**\n",
        "\n",
        "    print(student_number)\n",
        "\n",
        "    [0,2,2,2,2,4,6,5,3,1]"
      ]
    },
    {
      "cell_type": "code",
      "execution_count": 2115,
      "metadata": {
        "id": "hWOh_ohcFehZ",
        "colab": {
          "base_uri": "https://localhost:8080/"
        },
        "outputId": "b849f02f-7f20-41cd-dbfd-f305addc719e"
      },
      "outputs": [
        {
          "output_type": "stream",
          "name": "stdout",
          "text": [
            "Original:  [2, 0, 2, 2, 1, 0, 2, 5, 0, 3]\n",
            "Sorted:  [0, 0, 0, 2, 2, 2, 2, 5, 3, 1]\n"
          ]
        }
      ],
      "source": [
        "def insertionSortAscending(array):\n",
        "    global num_of_steps\n",
        "    for step in range(1, len(array)):\n",
        "        key = array[step]\n",
        "        j = step - 1\n",
        "\n",
        "        while j >= 0 and key < array[j]:\n",
        "            array[j + 1] = array[j]\n",
        "            j = j - 1\n",
        "\n",
        "        array[j + 1] = key\n",
        "\n",
        "def insertionSortDescending(array):\n",
        "    for step in range(1, len(array)):\n",
        "        key = array[step]\n",
        "        j = step - 1\n",
        "\n",
        "        while j >= 0 and key > array[j]:\n",
        "            array[j + 1] = array[j]\n",
        "            j = j - 1\n",
        "\n",
        "        array[j + 1] = key\n",
        "\n",
        "\n",
        "student_number = [2,0,2,2,1,0,2,5,0,3]\n",
        "even = []\n",
        "odd = []\n",
        "\n",
        "print(\"Original: \", student_number)\n",
        "\n",
        "for i in range(len(student_number)):\n",
        "  if student_number[i] % 2 == 0:\n",
        "    even.append(student_number[i])\n",
        "  else:\n",
        "    odd.append(student_number[i])\n",
        "\n",
        "insertionSortAscending(even)\n",
        "insertionSortDescending(odd)\n",
        "\n",
        "for i in range(len(student_number)):\n",
        "  if (i < len(even)):\n",
        "    student_number[i] = even[i]\n",
        "  else:\n",
        "    student_number[i] = odd[i-len(even)]\n",
        "\n",
        "print(\"Sorted: \", student_number)"
      ]
    }
  ],
  "metadata": {
    "kernelspec": {
      "display_name": "Python 3",
      "language": "python",
      "name": "python3"
    },
    "language_info": {
      "codemirror_mode": {
        "name": "ipython",
        "version": 3
      },
      "file_extension": ".py",
      "mimetype": "text/x-python",
      "name": "python",
      "nbconvert_exporter": "python",
      "pygments_lexer": "ipython3",
      "version": "3.9.13"
    },
    "orig_nbformat": 4,
    "colab": {
      "provenance": []
    }
  },
  "nbformat": 4,
  "nbformat_minor": 0
}
